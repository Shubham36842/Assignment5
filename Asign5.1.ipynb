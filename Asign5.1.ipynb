{
 "cells": [
  {
   "cell_type": "raw",
   "id": "83767fe8-b19c-4b6b-8d57-d7ed52bd213b",
   "metadata": {},
   "source": [
    "Q1. What is an Exception in python? Write the difference between Exceptions and Syntax errors."
   ]
  },
  {
   "cell_type": "raw",
   "id": "d02688a4-27da-4d94-9e6d-1cb016490e15",
   "metadata": {},
   "source": [
    "Ans-Exceptions are raised when some internal events occur which change the normal flow of the                 program.Example- ZeroDivisionError,AttributeError,IOError etc\n",
    "\n",
    "    Exceptions: Exceptions are raised when the program is syntactically correct, but the code                 results in an error. This error does not stop the execution of the program,                   however, it changes the normal flow of the program.\n",
    "    \n",
    "    Syntax Error: As the name suggests this error is caused by the wrong syntax in the code.                   It leads to the termination of the program. "
   ]
  },
  {
   "cell_type": "raw",
   "id": "68af6548-4fd4-48a8-8042-7ef2cb3bbaec",
   "metadata": {},
   "source": [
    "Q2. What happens when an exception is not handled? Explain with an example."
   ]
  },
  {
   "cell_type": "raw",
   "id": "7a839566-da96-41f5-94cf-d466591fb927",
   "metadata": {},
   "source": [
    "Ans-When an exception occurred, if you don't handle it, the program terminates abruptly and       the code past the line that caused the exception will not get executed.In the example print(a) is not executed due to exception occured by a=marks/0"
   ]
  },
  {
   "cell_type": "code",
   "execution_count": 1,
   "id": "6ecf576d-a8f3-45cc-977d-384e1a1962b4",
   "metadata": {},
   "outputs": [
    {
     "ename": "ZeroDivisionError",
     "evalue": "division by zero",
     "output_type": "error",
     "traceback": [
      "\u001b[0;31m---------------------------------------------------------------------------\u001b[0m",
      "\u001b[0;31mZeroDivisionError\u001b[0m                         Traceback (most recent call last)",
      "Cell \u001b[0;32mIn[1], line 2\u001b[0m\n\u001b[1;32m      1\u001b[0m marks \u001b[38;5;241m=\u001b[39m \u001b[38;5;241m10000\u001b[39m\n\u001b[0;32m----> 2\u001b[0m a \u001b[38;5;241m=\u001b[39m \u001b[43mmarks\u001b[49m\u001b[43m \u001b[49m\u001b[38;5;241;43m/\u001b[39;49m\u001b[43m \u001b[49m\u001b[38;5;241;43m0\u001b[39;49m\n\u001b[1;32m      3\u001b[0m \u001b[38;5;28mprint\u001b[39m(a)\n",
      "\u001b[0;31mZeroDivisionError\u001b[0m: division by zero"
     ]
    }
   ],
   "source": [
    "marks = 10000\n",
    "a = marks / 0\n",
    "print(a)"
   ]
  },
  {
   "cell_type": "raw",
   "id": "27104368-0f08-43ed-887e-20fdfa858e1d",
   "metadata": {},
   "source": [
    "Q3. Which Python statements are used to catch and handle exceptions? Explain with an example."
   ]
  },
  {
   "cell_type": "raw",
   "id": "1ecf8eaf-e60e-411b-a4d2-e99e57f0f3c1",
   "metadata": {},
   "source": [
    "Ans-try and except statements are used to catch exceptions in python.code that can cause         exception put under try block and except block used to catch these exception."
   ]
  },
  {
   "cell_type": "code",
   "execution_count": 2,
   "id": "78c8a918-8679-46ed-8961-f5c93d5cef69",
   "metadata": {},
   "outputs": [
    {
     "name": "stdout",
     "output_type": "stream",
     "text": [
      "Error: cannot add an int and a str\n"
     ]
    }
   ],
   "source": [
    "x = 5\n",
    "y = \"hello\"\n",
    "try:\n",
    "\tz = x + y\n",
    "except TypeError:\n",
    "\tprint(\"Error: cannot add an int and a str\")"
   ]
  },
  {
   "cell_type": "raw",
   "id": "79464f4c-3ccf-4281-87f7-7874489b8988",
   "metadata": {},
   "source": [
    "Q4. Explain with an example:\n",
    "a.try and else\n",
    "b.finally\n",
    "c.raise"
   ]
  },
  {
   "cell_type": "raw",
   "id": "5777eff0-aec2-4b26-96d8-b88b7096cc97",
   "metadata": {},
   "source": [
    "Ans-\n",
    "try and else- else block code is executed only when try block executed successfully.when try               block made no exeception then else block code get executed."
   ]
  },
  {
   "cell_type": "code",
   "execution_count": 3,
   "id": "64b32918-8ed9-4e22-9b08-cb25ec8f554d",
   "metadata": {},
   "outputs": [
    {
     "name": "stdout",
     "output_type": "stream",
     "text": [
      "-5.0\n",
      "a/b result in 0\n"
     ]
    }
   ],
   "source": [
    "# Program to depict else clause with try-except\n",
    "# Python 3\n",
    "# Function which returns a/b\n",
    "def AbyB(a , b):\n",
    "\ttry:\n",
    "\t\tc = ((a+b) / (a-b))\n",
    "\texcept ZeroDivisionError:\n",
    "\t\tprint (\"a/b result in 0\")\n",
    "\telse:\n",
    "\t\tprint (c)\n",
    "\n",
    "# Driver program to test above function\n",
    "AbyB(2.0, 3.0)\n",
    "AbyB(3.0, 3.0)"
   ]
  },
  {
   "cell_type": "raw",
   "id": "37460656-2372-439a-b221-137919d351cc",
   "metadata": {},
   "source": [
    "finally- finally block is used when you want to executed something that has no effect of              exeception. finally block code always executed."
   ]
  },
  {
   "cell_type": "code",
   "execution_count": 4,
   "id": "65a6ccfa-2fec-4088-a966-019b2f87b77f",
   "metadata": {},
   "outputs": [
    {
     "name": "stdout",
     "output_type": "stream",
     "text": [
      "Can't divide by zero\n",
      "This is always executed\n"
     ]
    }
   ],
   "source": [
    "# Python program to demonstrate finally\n",
    "\n",
    "# No exception Exception raised in try block\n",
    "try:\n",
    "\tk = 5//0 # raises divide by zero exception.\n",
    "\tprint(k)\n",
    "\n",
    "# handles zerodivision exception\n",
    "except ZeroDivisionError:\n",
    "\tprint(\"Can't divide by zero\")\n",
    "\n",
    "finally:\n",
    "\t# this block is always executed\n",
    "\t# regardless of exception generation.\n",
    "\tprint('This is always executed')"
   ]
  },
  {
   "cell_type": "raw",
   "id": "6e832665-d3bf-46b2-aa9c-d253d77e56f0",
   "metadata": {},
   "source": [
    "raise- To throw (or raise) an exception, use the raise keyword."
   ]
  },
  {
   "cell_type": "code",
   "execution_count": 5,
   "id": "96a6dda0-b044-4dfd-a524-f32f7ccc0843",
   "metadata": {},
   "outputs": [
    {
     "ename": "Exception",
     "evalue": "Sorry, no numbers below zero",
     "output_type": "error",
     "traceback": [
      "\u001b[0;31m---------------------------------------------------------------------------\u001b[0m",
      "\u001b[0;31mException\u001b[0m                                 Traceback (most recent call last)",
      "Cell \u001b[0;32mIn[5], line 3\u001b[0m\n\u001b[1;32m      1\u001b[0m x \u001b[38;5;241m=\u001b[39m \u001b[38;5;241m-\u001b[39m\u001b[38;5;241m1\u001b[39m\n\u001b[1;32m      2\u001b[0m \u001b[38;5;28;01mif\u001b[39;00m x \u001b[38;5;241m<\u001b[39m \u001b[38;5;241m0\u001b[39m:\n\u001b[0;32m----> 3\u001b[0m   \u001b[38;5;28;01mraise\u001b[39;00m \u001b[38;5;167;01mException\u001b[39;00m(\u001b[38;5;124m\"\u001b[39m\u001b[38;5;124mSorry, no numbers below zero\u001b[39m\u001b[38;5;124m\"\u001b[39m)\n",
      "\u001b[0;31mException\u001b[0m: Sorry, no numbers below zero"
     ]
    }
   ],
   "source": [
    "x = -1\n",
    "if x < 0:\n",
    "  raise Exception(\"Sorry, no numbers below zero\")"
   ]
  },
  {
   "cell_type": "raw",
   "id": "04c75af9-7e17-4e55-a740-69679368dd14",
   "metadata": {},
   "source": [
    "Q5. What are Custom Exceptions in python? Why do we need Custom Exceptions? Explain with an example."
   ]
  },
  {
   "cell_type": "raw",
   "id": "48b37baa-7e40-4048-a138-48f5b76b56e8",
   "metadata": {},
   "source": [
    "we can define custom exceptions by creating a new class that is derived from the built-in Exception class.\n",
    "we need to custom Exeception when we want to handle our own execeptions that are not defined in the exeception class."
   ]
  },
  {
   "cell_type": "code",
   "execution_count": 7,
   "id": "3eea9e64-e3a5-450e-ae55-6c555c259b3e",
   "metadata": {},
   "outputs": [
    {
     "name": "stdin",
     "output_type": "stream",
     "text": [
      "Enter a number:  12\n"
     ]
    },
    {
     "name": "stdout",
     "output_type": "stream",
     "text": [
      "Exception occurred: Invalid Age\n"
     ]
    }
   ],
   "source": [
    "# define Python custom exceptions\n",
    "class InvalidAgeException(Exception):\n",
    "    \"Raised when the input value is less than 18\"\n",
    "    pass\n",
    "\n",
    "# you need to guess this number\n",
    "number = 18\n",
    "\n",
    "try:\n",
    "    input_num = int(input(\"Enter a number: \"))\n",
    "    if input_num < number:\n",
    "        raise InvalidAgeException\n",
    "    else:\n",
    "        print(\"Eligible to Vote\")\n",
    "        \n",
    "except InvalidAgeException:\n",
    "    print(\"Exception occurred: Invalid Age\")"
   ]
  },
  {
   "cell_type": "raw",
   "id": "2973bc8b-5f5c-4c77-9508-6298c1b6814e",
   "metadata": {},
   "source": [
    "Q6. Create a custom exception class. Use this class to handle an exception."
   ]
  },
  {
   "cell_type": "code",
   "execution_count": 10,
   "id": "0eeb0828-36d9-4747-9dcb-7fd039554d80",
   "metadata": {},
   "outputs": [
    {
     "name": "stdout",
     "output_type": "stream",
     "text": [
      "A New Exception occurred:  6\n"
     ]
    }
   ],
   "source": [
    "# A python program to create user-defined exception\n",
    "# class MyError is derived from super class Exception\n",
    "class MyError(Exception):\n",
    "\n",
    "\t# Constructor or Initializer\n",
    "\tdef __init__(self, value):\n",
    "\t\tself.value = value\n",
    "\n",
    "\t# __str__ is to print() the value\n",
    "\tdef __str__(self):\n",
    "\t\treturn(repr(self.value))\n",
    "\n",
    "\n",
    "try:\n",
    "\traise(MyError(3*2))\n",
    "\n",
    "# Value of Exception is stored in error\n",
    "except MyError as error:\n",
    "\tprint('A New Exception occurred: ', error.value)\n"
   ]
  }
 ],
 "metadata": {
  "kernelspec": {
   "display_name": "Python 3 (ipykernel)",
   "language": "python",
   "name": "python3"
  },
  "language_info": {
   "codemirror_mode": {
    "name": "ipython",
    "version": 3
   },
   "file_extension": ".py",
   "mimetype": "text/x-python",
   "name": "python",
   "nbconvert_exporter": "python",
   "pygments_lexer": "ipython3",
   "version": "3.10.8"
  }
 },
 "nbformat": 4,
 "nbformat_minor": 5
}
