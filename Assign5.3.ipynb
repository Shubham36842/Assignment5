{
 "cells": [
  {
   "cell_type": "raw",
   "id": "759e9843-9c53-4ea5-9d2e-26eef0c2649f",
   "metadata": {},
   "source": [
    "Q1. What is multithreading in python? Why is it used? Name the module used to handle threads in python.\n"
   ]
  },
  {
   "cell_type": "raw",
   "id": "f694226b-02ce-4ce2-8451-c4260d70481f",
   "metadata": {},
   "source": [
    "Ans-Multithreading is defined as the ability of a processor to execute multiple threads           concurrently .Multithreading in Python programming is a well-known technique in which         multiple threads in a process share their data space with the main thread which makes         information sharing and communication within threads easy and efficient. \n",
    "\n",
    "    Python multithreading enables efficient utilization of the resources as the threads share     the data space and memory. Multithreading in Python allows the concurrent and parallel       occurrence of various tasks.\n",
    "    \n",
    "    Module-threading "
   ]
  },
  {
   "cell_type": "raw",
   "id": "9854de13-68fc-4379-ac7f-295283365798",
   "metadata": {},
   "source": [
    "Q2. Why threading module used? Write the use of the following functions.\n",
    "1.activeCount()\n",
    "2.currentThread()\n",
    "3.enumerate()\n"
   ]
  },
  {
   "cell_type": "raw",
   "id": "3e41a1a6-9fa2-44c7-a06d-aa72060be5b5",
   "metadata": {},
   "source": [
    "Ans-Threading module is used to support multithreading in python.it is used to create threads     in python\n",
    "\n",
    "activecount()-This ia a method which returns number of active or currently running threads.\n",
    "\n",
    "currentThread()-This method is used to return the object of current thread.\n",
    "\n",
    "enumerate()- returns a list of all Thread objects currently alive."
   ]
  },
  {
   "cell_type": "raw",
   "id": "ff18fc96-a799-4746-b548-225f1e9db764",
   "metadata": {},
   "source": [
    "Q3. Explain the following functions\n",
    "1.run()\n",
    "2.start()\n",
    "3.join()\n",
    "4.isAlive()\n"
   ]
  },
  {
   "cell_type": "raw",
   "id": "5f135073-a27b-4faf-ada6-91ed6afffc09",
   "metadata": {},
   "source": [
    "run()-method executes any target function belonging to a given thread object that is now           active. It normally executes in the background after the .start() method is invoked.       \n",
    "start()-method used to start any thread.\n",
    "\n",
    "join()- stop the execution of the current program until a thread is complete.\n",
    "\n",
    "isAlive()-check whether a thread is active or not."
   ]
  },
  {
   "cell_type": "raw",
   "id": "d4354165-9308-4ad1-9ff1-913bd917ab98",
   "metadata": {},
   "source": [
    "Q4. Write a python program to create two threads. Thread one must print the list of squares and thread two must print the list of cubes.\n"
   ]
  },
  {
   "cell_type": "code",
   "execution_count": 6,
   "id": "5ed314f9-c6a0-4768-95a5-ba14ea29c740",
   "metadata": {},
   "outputs": [
    {
     "name": "stdout",
     "output_type": "stream",
     "text": [
      "Square: 1\n",
      "Square: 4\n",
      "Square: 9\n",
      "Square: 16\n",
      "Square: 25\n",
      "Cube: 1\n",
      "Cube: 8\n",
      "Cube: 27\n",
      "Cube: 64\n",
      "Cube: 125\n",
      "Done!\n"
     ]
    }
   ],
   "source": [
    "# Python program to illustrate the concept\n",
    "# of threading\n",
    "# importing the threading module\n",
    "import threading\n",
    "\n",
    "\n",
    "def print_cube(num):\n",
    "\t# function to print cube of given num\n",
    "    for i in num:\n",
    "        print(\"Cube: {}\" .format(i*i*i))\n",
    "\n",
    "\n",
    "def print_square(num):\n",
    "\t# function to print square of given num\n",
    "    for j in num:\n",
    "        print(\"Square: {}\" .format(j*j))\n",
    "\n",
    "\n",
    "if __name__ ==\"__main__\":\n",
    "\t# creating thread\n",
    "\tt1 = threading.Thread(target=print_square, args=([1,2,3,4,5],))\n",
    "\tt2 = threading.Thread(target=print_cube, args=([1,2,3,4,5],))\n",
    "\n",
    "\t# starting thread 1\n",
    "\tt1.start()\n",
    "\t# starting thread 2\n",
    "\tt2.start()\n",
    "\n",
    "\t# wait until thread 1 is completely executed\n",
    "\tt1.join()\n",
    "\t# wait until thread 2 is completely executed\n",
    "\tt2.join()\n",
    "\n",
    "\t# both threads completely executed\n",
    "\tprint(\"Done!\")\n"
   ]
  },
  {
   "cell_type": "raw",
   "id": "49cd4c67-da02-4871-be0c-13af1007e5e1",
   "metadata": {},
   "source": [
    "Q5. State advantages and disadvantages of multithreading.\n"
   ]
  },
  {
   "cell_type": "raw",
   "id": "01841a04-4250-4822-92e5-13d5112cab52",
   "metadata": {},
   "source": [
    "Advantages\n",
    "1.Improve performance\n",
    "2.Responsiveness\n",
    "3.Better resource utilization\n",
    "4.Simplified modeling\n",
    "5.Parallelism\n",
    "\n",
    "Disadvantages\n",
    "1.Complexity\n",
    "2.Synchronization overhead\n",
    "3.Context switching\n",
    "4.Limited by hardware"
   ]
  },
  {
   "cell_type": "raw",
   "id": "ea72d206-8b45-4126-8cf7-3ed76dbb0e6b",
   "metadata": {},
   "source": [
    "Q6. Explain deadlocks and race conditions."
   ]
  },
  {
   "cell_type": "raw",
   "id": "8193eef2-bcd8-46e0-b2b4-f5e088ff6994",
   "metadata": {},
   "source": [
    "Ans-Deadlock is a situation when resources demanded by any process is occupied by another\n",
    "    when deadlock occurr no process can complete because of lack of resources\n",
    "    \n",
    "    Race condtition occur when two process want to modify the common resources or global data"
   ]
  }
 ],
 "metadata": {
  "kernelspec": {
   "display_name": "Python 3 (ipykernel)",
   "language": "python",
   "name": "python3"
  },
  "language_info": {
   "codemirror_mode": {
    "name": "ipython",
    "version": 3
   },
   "file_extension": ".py",
   "mimetype": "text/x-python",
   "name": "python",
   "nbconvert_exporter": "python",
   "pygments_lexer": "ipython3",
   "version": "3.10.8"
  }
 },
 "nbformat": 4,
 "nbformat_minor": 5
}
