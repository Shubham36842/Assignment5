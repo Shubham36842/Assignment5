{
 "cells": [
  {
   "cell_type": "raw",
   "id": "34432d58-8ab7-45d9-b534-df6918a61740",
   "metadata": {},
   "source": [
    "Q1. What is multiprocessing in python? Why is it useful? \n"
   ]
  },
  {
   "cell_type": "raw",
   "id": "e5011f9d-8f6f-43e3-b806-10a277e71ea2",
   "metadata": {},
   "source": [
    "Ans-Multiprocessing refers to running multiple processes simultaneously, which can be             incredibly useful for speeding up your code and handling large datasets and tasks.\n",
    "    Multiprocessing refers to the ability of a system to support more than one processor at       the same time. Applications in a multiprocessing system are broken to smaller routines       that run independently.\n",
    "    \n",
    "    Multiprocessing in Python is a built-in package that allows the system to run multiple       processes simultaneously. It will enable the breaking of applications into smaller           threads that can run independently."
   ]
  },
  {
   "cell_type": "raw",
   "id": "ce0d6f8a-a93a-4112-9e97-190851ab4dbc",
   "metadata": {},
   "source": [
    "Q2. What are the differences between multiprocessing and multithreading?\n"
   ]
  },
  {
   "cell_type": "raw",
   "id": "5c6275d8-1f28-4e53-a6ad-6f6742cced23",
   "metadata": {},
   "source": [
    "Ans- Multiprocessing refers to the ability of a system to support more than one processor at       the same time.\n",
    " \n",
    "     multithreading means running multiple threads of a process parallelly.multithreading can      be implemented in python using threading module"
   ]
  },
  {
   "cell_type": "raw",
   "id": "e6702fe3-87e3-4841-a9eb-c2bd6410aef0",
   "metadata": {},
   "source": [
    "Q3. Write a python code to create a process using the multiprocessing module.\n"
   ]
  },
  {
   "cell_type": "code",
   "execution_count": 1,
   "id": "76caf1b5-3ea6-406b-9d93-c5b67d23715b",
   "metadata": {},
   "outputs": [
    {
     "name": "stdout",
     "output_type": "stream",
     "text": [
      "Square: 100\n",
      "Cube: 1000\n",
      "Done!\n"
     ]
    }
   ],
   "source": [
    "# importing the multiprocessing module\n",
    "import multiprocessing\n",
    "\n",
    "def print_cube(num):\n",
    "\t\"\"\"\n",
    "\tfunction to print cube of given num\n",
    "\t\"\"\"\n",
    "\tprint(\"Cube: {}\".format(num * num * num))\n",
    "\n",
    "def print_square(num):\n",
    "\t\"\"\"\n",
    "\tfunction to print square of given num\n",
    "\t\"\"\"\n",
    "\tprint(\"Square: {}\".format(num * num))\n",
    "\n",
    "if __name__ == \"__main__\":\n",
    "\t# creating processes\n",
    "\tp1 = multiprocessing.Process(target=print_square, args=(10, ))\n",
    "\tp2 = multiprocessing.Process(target=print_cube, args=(10, ))\n",
    "\n",
    "\t# starting process 1\n",
    "\tp1.start()\n",
    "\t# starting process 2\n",
    "\tp2.start()\n",
    "\n",
    "\t# wait until process 1 is finished\n",
    "\tp1.join()\n",
    "\t# wait until process 2 is finished\n",
    "\tp2.join()\n",
    "\n",
    "\t# both processes finished\n",
    "\tprint(\"Done!\")"
   ]
  },
  {
   "cell_type": "raw",
   "id": "7f71791a-146f-4379-9d4b-a53d16a213d6",
   "metadata": {},
   "source": [
    "Q4. What is a multiprocessing pool in python? Why is it used?\n"
   ]
  },
  {
   "cell_type": "raw",
   "id": "52cd65f2-4ccb-4063-9fe8-a3db9f362c9e",
   "metadata": {},
   "source": [
    "Ans-Python multiprocessing Pool can be used for parallel execution of a function across           multiple input values, distributing the input data across processes (data parallelism).\n",
    "\n",
    "    The Pool class in multiprocessing can handle an enormous number of processes. It allows       you to run multiple jobs per process (due to its ability to queue the jobs). The memory       is allocated only to the executing processes, unlike the Process class, which allocates       memory to all the processes."
   ]
  },
  {
   "cell_type": "raw",
   "id": "482b4531-0b44-4ee8-8a7b-5ed496dcd621",
   "metadata": {},
   "source": [
    "Q5. How can we create a pool of worker processes in python using the multiprocessing module?\n"
   ]
  },
  {
   "cell_type": "raw",
   "id": "f3d34ab3-455c-4a8b-8dc8-df097b7b785b",
   "metadata": {},
   "source": [
    "Q6. Write a python program to create 4 processes, each process should print a different number using the multiprocessing module in python."
   ]
  },
  {
   "cell_type": "code",
   "execution_count": 17,
   "id": "ff326208-fd58-4c19-853c-c4b755701677",
   "metadata": {},
   "outputs": [
    {
     "name": "stdout",
     "output_type": "stream",
     "text": [
      "process1 1process2\n",
      " 2process3\n",
      " process43 \n",
      "4\n",
      "Done!\n"
     ]
    }
   ],
   "source": [
    "# importing the multiprocessing module\n",
    "import multiprocessing\n",
    "\n",
    "def print_num(num):\n",
    "\t\"\"\"\n",
    "\tfunction to print given num\n",
    "\t\"\"\"\n",
    "\tprint(\"process{}\".format(num),num)\n",
    "\n",
    "if __name__ == \"__main__\":\n",
    "    \n",
    "    # creating processes\n",
    "    p1 = multiprocessing.Process(target=print_num, args=(1, ))\n",
    "    p2 = multiprocessing.Process(target=print_num, args=(2, ))\n",
    "    p3 = multiprocessing.Process(target=print_num, args=(3, ))\n",
    "    p4 = multiprocessing.Process(target=print_num, args=(4, ))# starting process 1\n",
    "    p1.start()\n",
    "    # starting process 2\n",
    "    p2.start()\n",
    "    p3.start()\n",
    "    p4.start()\n",
    "\n",
    "    # wait until process 1 is finished\n",
    "    p1.join()\n",
    "    # wait until process 2 is finished\n",
    "    p2.join()\n",
    "    p3.join()\n",
    "    p4.join()\n",
    "\n",
    "    # both processes finished\n",
    "    print(\"Done!\")"
   ]
  },
  {
   "cell_type": "code",
   "execution_count": null,
   "id": "5077d375-c1da-4e72-aa5f-c7bfe48e9f77",
   "metadata": {},
   "outputs": [],
   "source": []
  }
 ],
 "metadata": {
  "kernelspec": {
   "display_name": "Python 3 (ipykernel)",
   "language": "python",
   "name": "python3"
  },
  "language_info": {
   "codemirror_mode": {
    "name": "ipython",
    "version": 3
   },
   "file_extension": ".py",
   "mimetype": "text/x-python",
   "name": "python",
   "nbconvert_exporter": "python",
   "pygments_lexer": "ipython3",
   "version": "3.10.8"
  }
 },
 "nbformat": 4,
 "nbformat_minor": 5
}
